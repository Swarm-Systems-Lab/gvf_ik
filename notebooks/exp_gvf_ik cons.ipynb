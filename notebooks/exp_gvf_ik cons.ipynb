{
 "cells": [
  {
   "cell_type": "code",
   "execution_count": null,
   "metadata": {},
   "outputs": [],
   "source": [
    "\"\"\"\\\n",
    "# Copyright (C) 2024 Jesús Bautista Villar <jesbauti20@gmail.com>\n",
    "\"\"\"\n",
    "!python3 --version"
   ]
  },
  {
   "cell_type": "code",
   "execution_count": null,
   "metadata": {},
   "outputs": [],
   "source": [
    "# Import standard libraries\n",
    "import os\n",
    "\n",
    "# Third-Party Libraries\n",
    "import numpy as np\n",
    "import matplotlib.pyplot as plt\n",
    "\n",
    "# Import the Swarm Systems Lab Simulator\n",
    "from ssl_simulator import createDir, load_data\n",
    "from ssl_simulator.visualization import set_paper_parameters\n",
    "set_paper_parameters(fontsize=15)\n",
    "\n",
    "# Import custom functions and classes\n",
    "from visualization import PlotExpGvfIkCons, PlotExpGvfIkCons\n",
    "\n",
    "# -------------------------------------------------------------------------------------\n",
    "\n",
    "# Data and output directories\n",
    "DATA_PATH = os.path.join(\"..\", \"data\")\n",
    "OUTPUT_PATH = os.path.join(\"..\", \"output\")\n",
    "\n",
    "createDir(OUTPUT_PATH)"
   ]
  },
  {
   "cell_type": "markdown",
   "metadata": {},
   "source": [
    "## Read the logs"
   ]
  },
  {
   "cell_type": "code",
   "execution_count": null,
   "metadata": {},
   "outputs": [],
   "source": [
    "# Loading data\n",
    "t0, tf = 1420, None\n",
    "filename = \"25_02_25__11_00_55_5.csv\"\n",
    "#filename = \"25_02_25__11_00_55_6.csv\"\n",
    "\n",
    "data = load_data(os.path.join(DATA_PATH, filename), t0, tf)\n",
    "\n",
    "# Procressing the data\n",
    "data_time = np.array(data[\"Time\"].to_list())\n",
    "data_x = np.array(data[\"NAVIGATION:pos_x\"].to_list())\n",
    "data_y = np.array(data[\"NAVIGATION:pos_y\"].to_list())\n",
    "data_phi = np.array(data[\"GVF:error\"].to_list())\n",
    "data_omega_d = np.array(data[\"GVF:omega_d\"].to_list())\n",
    "data_omega = np.array(data[\"GVF:omega\"].to_list())\n",
    "data_n_norm = np.array(data[\"GVF:n_norm\"].to_list())\n",
    "data_t_norm = np.array(data[\"GVF:t_norm\"].to_list())\n",
    "data_ke = np.array(data[\"GVF:ke\"].to_list())\n",
    "\n",
    "print(data.columns)"
   ]
  },
  {
   "cell_type": "code",
   "execution_count": null,
   "metadata": {},
   "outputs": [],
   "source": [
    "plt.plot(data_x, data_y, \"-k\", markersize=2)\n",
    "plt.grid(True)"
   ]
  },
  {
   "cell_type": "markdown",
   "metadata": {},
   "source": [
    "## Generate the article plots"
   ]
  },
  {
   "cell_type": "code",
   "execution_count": null,
   "metadata": {},
   "outputs": [],
   "source": [
    "# Loading data\n",
    "t0, tf = 937, 1500\n",
    "t0, tf = 1420, 1600\n",
    "\n",
    "filename1 = \"25_02_25__11_00_55_5.csv\"\n",
    "filename2 = \"25_02_25__11_00_55_6.csv\"\n",
    "\n",
    "data1 = load_data(os.path.join(DATA_PATH, filename1), t0, tf)\n",
    "data2 = load_data(os.path.join(DATA_PATH, filename2), t0, tf)\n",
    "\n",
    "gps_img = plt.imread(os.path.join(DATA_PATH, \"exp_cons_rot.png\"))\n",
    "\n",
    "exp = PlotExpGvfIkCons(data1, data2)\n",
    "exp.plot(gps_img, xlim=[-525,-200], ylim=[-700,1000], dpi=200, figsize=(16,6), \n",
    "         idx_list=np.linspace(0, 430, 6, dtype=int), idx_filt=[100,200])\n",
    "\n",
    "plt.show()"
   ]
  }
 ],
 "metadata": {
  "kernelspec": {
   "display_name": "Python 3",
   "language": "python",
   "name": "python3"
  },
  "language_info": {
   "codemirror_mode": {
    "name": "ipython",
    "version": 3
   },
   "file_extension": ".py",
   "mimetype": "text/x-python",
   "name": "python",
   "nbconvert_exporter": "python",
   "pygments_lexer": "ipython3",
   "version": "3.11.4"
  },
  "orig_nbformat": 4
 },
 "nbformat": 4,
 "nbformat_minor": 2
}
