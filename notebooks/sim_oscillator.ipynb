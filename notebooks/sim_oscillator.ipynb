{
 "cells": [
  {
   "cell_type": "code",
   "execution_count": null,
   "metadata": {},
   "outputs": [],
   "source": [
    "# Import standard libraries\n",
    "import os\n",
    "\n",
    "# Third-Party Libraries\n",
    "import numpy as np\n",
    "import matplotlib.pyplot as plt\n",
    "\n",
    "# Import the Swarm Systems Lab Simulator\n",
    "from ssl_simulator import SimulationEngine\n",
    "from ssl_simulator.robot_models import SingleIntegrator\n",
    "from ssl_simulator.data_manager import load_sim\n",
    "from ssl_simulator.visualization import set_paper_parameters\n",
    "set_paper_parameters(fontsize=15)\n",
    "\n",
    "# Import custom functions and classes\n",
    "from visualization import PlotBasic, PlotBasicGamma\n",
    "from controllers import Oscillator\n",
    "\n",
    "# Define constants for file paths\n",
    "OUTPUT_DIR = os.path.join(\"..\", \"output\")\n",
    "SIMDATA_FILE = os.path.join(OUTPUT_DIR, \"data.csv\")"
   ]
  },
  {
   "cell_type": "markdown",
   "metadata": {},
   "source": [
    "# SI following an oscillatory motion"
   ]
  },
  {
   "cell_type": "markdown",
   "metadata": {},
   "source": [
    "## Fixed $\\omega$ and different amplitudes $A$"
   ]
  },
  {
   "cell_type": "code",
   "execution_count": null,
   "metadata": {},
   "outputs": [],
   "source": [
    "# Define the initial state\n",
    "N = 5\n",
    "\n",
    "p = np.ones((N,2))\n",
    "x0 = [p]\n",
    "\n",
    "# Controller settings\n",
    "speed_fixed = 1.4\n",
    "A_max = 2\n",
    "omega_fixed = np.pi/4\n",
    "\n",
    "speed = np.ones(N) * speed_fixed\n",
    "A = (np.arange(N)+1)/(N+1) * A_max\n",
    "omega = np.ones(N) * omega_fixed\n",
    "\n",
    "# --------------------------------\n",
    "# Select and initialize the robot model and the controller\n",
    "robot_model = SingleIntegrator(x0)\n",
    "controller = Oscillator(A, omega, speed)\n",
    "\n",
    "# Then, construct the Simulator Engine\n",
    "dt = 0.01\n",
    "simulator = SimulationEngine(robot_model, controller, time_step=dt)\n",
    "\n",
    "# --------------------------------\n",
    "# Run the simulation and save data\n",
    "tf = 2*np.pi/np.max(omega)\n",
    "\n",
    "simulator.run(tf)\n",
    "simulator.logger.save(SIMDATA_FILE)\n",
    "# --------------------------------"
   ]
  },
  {
   "cell_type": "code",
   "execution_count": null,
   "metadata": {},
   "outputs": [],
   "source": [
    "# Load previously saved simulation data from the specified file\n",
    "simulation_data = load_sim(SIMDATA_FILE, debug=True)\n",
    "\n",
    "x_dot = np.array(simulation_data[\"p_dot\"].tolist())[:,:,0]\n",
    "\n",
    "print(\"-------------------------\")\n",
    "print(\"A:\\n\", A)\n",
    "print(\"average(x_dot):\\n\", np.mean(x_dot[:,:], 0))\n",
    "print(\"-------------------------\")\n",
    "\n",
    "# Initialize the plotter with the loaded simulation data\n",
    "plotter = PlotBasicGamma(simulation_data)\n",
    "\n",
    "# Generate and display the plot\n",
    "ax = plotter.plot()\n",
    "\n",
    "x = np.array(simulation_data[\"p\"].tolist())[:,:,0]\n",
    "y = np.array(simulation_data[\"p\"].tolist())[:,:,1]\n",
    "\n",
    "ax.set_title(r\"$\\omega = {:.2f}$ $[rad/s]$, $t_f = 2\\pi/\\omega$\".format(omega[0]))\n",
    "for i in [0,N-1]:\n",
    "    ax.text(x[-1,i]*0.9, y[-1,i]*1.1, r\"$A={:.2f}$\".format(A[i]), fontdict={\"size\":12})\n",
    "\n",
    "plt.show()"
   ]
  },
  {
   "cell_type": "markdown",
   "metadata": {},
   "source": [
    "## Fixed amplitude $A$ and different $\\omega$"
   ]
  },
  {
   "cell_type": "code",
   "execution_count": null,
   "metadata": {},
   "outputs": [],
   "source": [
    "# Define the initial state\n",
    "N = 5\n",
    "\n",
    "p = np.ones((N,2))\n",
    "x0 = [p]\n",
    "\n",
    "# Controller settings\n",
    "speed_fixed = 1.4\n",
    "A_fixed = 2\n",
    "omega_max = np.pi/4\n",
    "\n",
    "speed = np.ones(N) * speed_fixed\n",
    "A = np.ones(N) * A_fixed\n",
    "omega = (np.arange(N)+1)/(N+1) * omega_fixed\n",
    "\n",
    "# --------------------------------\n",
    "# Select and initialize the robot model and the controller\n",
    "robot_model = SingleIntegrator(x0)\n",
    "controller = Oscillator(A, omega, speed)\n",
    "\n",
    "# Then, construct the Simulator Engine\n",
    "dt = 0.01\n",
    "simulator = SimulationEngine(robot_model, controller, time_step=dt)\n",
    "\n",
    "# --------------------------------\n",
    "# Run the simulation and save data\n",
    "tf = 15\n",
    "simulator.run(tf)\n",
    "simulator.logger.save(SIMDATA_FILE)\n",
    "# --------------------------------"
   ]
  },
  {
   "cell_type": "code",
   "execution_count": null,
   "metadata": {},
   "outputs": [],
   "source": [
    "# Load previously saved simulation data from the specified file\n",
    "simulation_data = load_sim(SIMDATA_FILE, debug=True)\n",
    "\n",
    "# Initialize the plotter with the loaded simulation data\n",
    "plotter = PlotBasicGamma(simulation_data)\n",
    "\n",
    "# Generate and display the plot\n",
    "ax = plotter.plot()\n",
    "\n",
    "x = np.array(simulation_data[\"p\"].tolist())[:,:,0]\n",
    "y = np.array(simulation_data[\"p\"].tolist())[:,:,1]\n",
    "\n",
    "ax.set_title(rf\"$A = {float(A[0]):.0f}$ $[m]$, $t_f = {float(tf):.0f}$\")\n",
    "for i in [0,N-1]:\n",
    "    ax.text(x[-1,i]*0.9, y[-1,i]*0.9, r\"$\\omega={:.2f}$\".format(omega[i]), fontdict={\"size\":12})\n",
    "\n",
    "plt.show()"
   ]
  },
  {
   "cell_type": "markdown",
   "metadata": {},
   "source": [
    "## Maximum avg(x_dot_i) - avg(x_dot_j)"
   ]
  },
  {
   "cell_type": "code",
   "execution_count": null,
   "metadata": {},
   "outputs": [],
   "source": [
    "# Define the initial state\n",
    "N = 2\n",
    "\n",
    "p = np.ones((N,2))\n",
    "x0 = [p]\n",
    "\n",
    "# Controller settings\n",
    "speed_fixed = 3\n",
    "omega_fixed = np.pi/4\n",
    "\n",
    "speed = np.ones(N) * speed_fixed\n",
    "omega = np.ones(N) * omega_fixed\n",
    "A = np.array([0, speed_fixed / omega_fixed])\n",
    "\n",
    "# --------------------------------\n",
    "# Select and initialize the robot model and the controller\n",
    "robot_model = SingleIntegrator(x0)\n",
    "controller = Oscillator(A, omega, speed)\n",
    "\n",
    "# Then, construct the Simulator Engine\n",
    "dt = 0.01\n",
    "simulator = SimulationEngine(robot_model, controller, time_step=dt)\n",
    "\n",
    "# --------------------------------\n",
    "# Run the simulation and save data\n",
    "tf = 2*np.pi/np.max(omega)\n",
    "simulator.run(tf)\n",
    "simulator.logger.save(SIMDATA_FILE)\n",
    "# --------------------------------"
   ]
  },
  {
   "cell_type": "code",
   "execution_count": null,
   "metadata": {},
   "outputs": [],
   "source": [
    "# Load previously saved simulation data from the specified file\n",
    "simulation_data = load_sim(SIMDATA_FILE, debug=True)\n",
    "\n",
    "x_dot = np.array(simulation_data[\"p_dot\"].tolist())[:,:,0]\n",
    "\n",
    "print(\"-------------------------\")\n",
    "print(\"A:\\n\", A)\n",
    "print(\"average(x_dot):\\n\", np.mean(x_dot[:,:], 0))\n",
    "print(\"-------------------------\")\n",
    "\n",
    "# Initialize the plotter with the loaded simulation data\n",
    "plotter = PlotBasicGamma(simulation_data)\n",
    "\n",
    "# Generate and display the plot\n",
    "ax = plotter.plot()\n",
    "\n",
    "x = np.array(simulation_data[\"p\"].tolist())[:,:,0]\n",
    "y = np.array(simulation_data[\"p\"].tolist())[:,:,1]\n",
    "\n",
    "ax.set_title(r\"$\\omega = {:.2f}$ $[rad/s]$, $t_f = 2\\pi/\\omega$\".format(omega[0]))\n",
    "for i in [0,N-1]:\n",
    "    ax.text(x[-1,i]*0.9, y[-1,i]*1.1, r\"$A={:.2f}$\".format(A[i]), fontdict={\"size\":12})\n",
    "\n",
    "plt.show()"
   ]
  }
 ],
 "metadata": {
  "kernelspec": {
   "display_name": "Python 3",
   "language": "python",
   "name": "python3"
  },
  "language_info": {
   "codemirror_mode": {
    "name": "ipython",
    "version": 3
   },
   "file_extension": ".py",
   "mimetype": "text/x-python",
   "name": "python",
   "nbconvert_exporter": "python",
   "pygments_lexer": "ipython3",
   "version": "3.11.4"
  }
 },
 "nbformat": 4,
 "nbformat_minor": 2
}
