{
 "cells": [
  {
   "cell_type": "code",
   "execution_count": null,
   "metadata": {},
   "outputs": [],
   "source": [
    "# Import standard libraries\n",
    "import os\n",
    "\n",
    "# Third-Party Libraries\n",
    "import numpy as np\n",
    "import matplotlib.pyplot as plt\n",
    "\n",
    "# Import the Swarm Systems Lab Simulator\n",
    "from ssl_simulator import SimulationEngine\n",
    "from ssl_simulator.robot_models import SingleIntegrator, Unicycle2D\n",
    "from ssl_simulator.gvf_trajectories import GvfLineAB\n",
    "from ssl_simulator.data_manager import load_sim\n",
    "from ssl_simulator.visualization import set_paper_parameters\n",
    "set_paper_parameters(fontsize=15)\n",
    "\n",
    "# Import custom functions and classes\n",
    "from visualization import PlotFormation, PlotInterp, PlotGvfIkCons\n",
    "from controllers import Oscillator, GvfIKCons\n",
    "\n",
    "# Define constants for file paths\n",
    "OUTPUT_DIR = os.path.join(\"..\", \"output\")\n",
    "SIMDATA_FILE = os.path.join(OUTPUT_DIR, \"data_paper.csv\")"
   ]
  },
  {
   "cell_type": "markdown",
   "metadata": {},
   "source": [
    "# Some paper plots"
   ]
  },
  {
   "cell_type": "code",
   "execution_count": null,
   "metadata": {},
   "outputs": [],
   "source": [
    "# Initialize the plotter with the loaded simulation data\n",
    "plotter = PlotFormation(figsize=(9,3), dpi=200)\n",
    "\n",
    "# Generate and display the plot\n",
    "plotter.plot()\n",
    "plt.show()"
   ]
  },
  {
   "cell_type": "markdown",
   "metadata": {},
   "source": [
    "# Numerical estimation of $A(\\dot{\\bar x})$ for different $\\omega$"
   ]
  },
  {
   "cell_type": "code",
   "execution_count": null,
   "metadata": {},
   "outputs": [],
   "source": [
    "# Plot parameters ---------------\n",
    "N = 10 # robots per omega\n",
    "\n",
    "speed = 16\n",
    "omega_list = [2*np.pi, np.pi, np.pi/2, np.pi/4, np.pi/8]\n",
    "# -------------------------------"
   ]
  },
  {
   "cell_type": "code",
   "execution_count": null,
   "metadata": {},
   "outputs": [],
   "source": [
    "N_omega = N * len(omega_list)\n",
    "\n",
    "# Define the initial state\n",
    "p = np.ones((N_omega,2)) * np.array([[0,0]])\n",
    "x0 = [p]\n",
    "\n",
    "# Controller settings\n",
    "speed_sim = np.ones((N_omega)) * np.array([speed])\n",
    "\n",
    "omega_sim = np.ones(N_omega)\n",
    "A_sim = np.ones(N_omega)\n",
    "for i,omega in enumerate(omega_list):\n",
    "    omega_sim[i*N:(i+1)*N] = omega\n",
    "    A_sim[i*N:(i+1)*N] = np.linspace(0, speed/omega*0.999999, N)\n",
    "\n",
    "# --------------------------------\n",
    "# Select and initialize the robot model and the controller\n",
    "robot_model = SingleIntegrator(x0)\n",
    "controller = Oscillator(A_sim, omega_sim, speed_sim)\n",
    "\n",
    "\n",
    "# Then, construct the Simulator Engine\n",
    "dt = 0.002\n",
    "simulator = SimulationEngine(robot_model, controller, time_step=dt)\n",
    "\n",
    "# --------------------------------\n",
    "# Run the simulation and save data\n",
    "tf = 2*np.pi / np.min(omega_list) * 1.2\n",
    "\n",
    "simulator.run(tf)\n",
    "simulator.logger.save(SIMDATA_FILE)"
   ]
  },
  {
   "cell_type": "code",
   "execution_count": null,
   "metadata": {},
   "outputs": [],
   "source": [
    "# Load previously saved simulation data from the specified file\n",
    "simulation_data = load_sim(SIMDATA_FILE, debug=False)\n",
    "\n",
    "x_dot = np.array(simulation_data[\"p_dot\"].tolist())[:,:,0]\n",
    "\n",
    "# Initialize the plotter with the loaded simulation data\n",
    "plotter = PlotInterp(simulation_data, N, dpi=200, figsize=(8,4))\n",
    "\n",
    "# Generate and display the plot\n",
    "ax = plotter.plot()\n",
    "plt.show()"
   ]
  },
  {
   "cell_type": "code",
   "execution_count": null,
   "metadata": {},
   "outputs": [],
   "source": [
    "# Save the plot as a file with the desired resolution\n",
    "plotter.save(os.path.join(OUTPUT_DIR, \"Axdot_h.png\"), dpi=200)"
   ]
  },
  {
   "cell_type": "markdown",
   "metadata": {},
   "source": [
    "# Simulation with many agents"
   ]
  },
  {
   "cell_type": "code",
   "execution_count": null,
   "metadata": {},
   "outputs": [],
   "source": [
    "# --------------------------------\n",
    "# Define the initial state\n",
    "\n",
    "# Number of agents\n",
    "N = 8\n",
    "\n",
    "# Initial position of the lines\n",
    "line_x0 = np.zeros(N)\n",
    "line_y0 = np.linspace(0,160,N)\n",
    "\n",
    "# Initial stata of the robots\n",
    "p = np.array([line_x0 + np.random.random(N)*100, line_y0 + np.random.random(N)*20]).T\n",
    "p[0,1] = p[0,1] - 20 \n",
    "p[-1,1] = p[-1,1] + 30 \n",
    "\n",
    "np.random.seed(1234)\n",
    "np.random.shuffle(p[:,1])\n",
    "\n",
    "speed = np.ones((N)) * np.array([8])\n",
    "theta = np.zeros((N)) + 2 * (np.random.random(N) - 0.5) * np.pi/2\n",
    "\n",
    "# p = regpoly_formation(N,50)\n",
    "# p[:,0] = p[:,0] + 35\n",
    "# p[:,1] = p[:,1] + 80\n",
    "# speed = np.ones((N)) * np.array([8])\n",
    "# theta = np.ones((N)) * np.array([0])\n",
    "\n",
    "x0 = [p, speed, theta]\n",
    "\n",
    "# Conectivity graph\n",
    "Z = [[0,1],[1,2],[2,3],[2,4],[3,5],[4,6],[5,7]]\n",
    "\n",
    "# --------------------------------\n",
    "# Controller settings\n",
    "A = np.array([0,8,16])\n",
    "omega = np.ones((N)) * 0.6\n",
    "ka = 0.14\n",
    "\n",
    "# --------------------------------\n",
    "# Generate the trajectory to be followed\n",
    "l = 1000\n",
    "heading = 0\n",
    "\n",
    "points_A = np.array([line_x0, line_y0]).T\n",
    "points_B = np.array([line_x0 + l*np.cos(heading), line_y0 + l*np.sin(heading)]).T\n",
    "\n",
    "gvf_traj = []\n",
    "for i in range(N):\n",
    "    gvf_traj.append(GvfLineAB(points_A[i], points_B[i]))\n",
    "\n",
    "# Select the robot model\n",
    "robot_model = Unicycle2D(x0, omega_lims=[-np.pi/4, np.pi/4])\n",
    "\n",
    "# Initialize the controller\n",
    "s, ke, kn = 1, 0.18, 1\n",
    "controller = GvfIKCons(gvf_traj, Z, s, ke, kn, omega, ka)\n",
    "\n",
    "\n",
    "# Then, construct the Simulator Engine\n",
    "dt = 0.01\n",
    "simulator = SimulationEngine(robot_model, controller, time_step=dt)\n",
    "    \n",
    "# --------------------------------\n",
    "# Run the simulation and save data\n",
    "tf = 120\n",
    "\n",
    "simulator.run(tf)\n",
    "simulator.logger.save(SIMDATA_FILE)\n",
    "# --------------------------------"
   ]
  },
  {
   "cell_type": "code",
   "execution_count": null,
   "metadata": {},
   "outputs": [],
   "source": [
    "# Load previously saved simulation data from the specified file\n",
    "simulation_data = load_sim(SIMDATA_FILE, debug=False)\n",
    "\n",
    "# Initialize the plotter with the loaded simulation data\n",
    "plotter = PlotGvfIkCons(simulation_data, gvf_traj, size=15, lw=1, figsize=(9,3), dpi=200)\n",
    "\n",
    "# Generate and display the plot\n",
    "ax = plotter.plot(lw=1.2, alpha=0.7, num_patches=4)\n",
    "ax.set_xlim([-20, l])\n",
    "ax.set_ylim([-55,215])\n",
    "\n",
    "plt.show()"
   ]
  }
 ],
 "metadata": {
  "kernelspec": {
   "display_name": "Python 3",
   "language": "python",
   "name": "python3"
  },
  "language_info": {
   "codemirror_mode": {
    "name": "ipython",
    "version": 3
   },
   "file_extension": ".py",
   "mimetype": "text/x-python",
   "name": "python",
   "nbconvert_exporter": "python",
   "pygments_lexer": "ipython3",
   "version": "3.11.4"
  }
 },
 "nbformat": 4,
 "nbformat_minor": 2
}
