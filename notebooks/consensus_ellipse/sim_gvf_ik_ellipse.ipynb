{
 "cells": [
  {
   "cell_type": "code",
   "execution_count": 2,
   "metadata": {},
   "outputs": [],
   "source": [
    "# Import standard libraries\n",
    "import os\n",
    "\n",
    "# Third-Party Libraries\n",
    "import numpy as np\n",
    "import matplotlib.pyplot as plt\n",
    "\n",
    "# Import the Swarm Systems Lab Simulator\n",
    "from ssl_simulator import SimulationEngine, load_sim, add_src_to_path\n",
    "from ssl_simulator.robot_models import SingleIntegrator, Unicycle2D\n",
    "from ssl_simulator.visualization import set_paper_parameters\n",
    "set_paper_parameters(fontsize=15)\n",
    "\n",
    "from ssl_simulator.components.gvf import GvfEllipse\n",
    "\n",
    "# -------------------------------------------------------------------------------------\n",
    "# Import custom functions and classes (src in path is requiered)\n",
    "add_src_to_path(\"\", deep=1)\n",
    "\n",
    "# from sim_core.visualization import PlotGvfIkCons, PlotInterpOsc, PlotGvfIkConsData\n",
    "# from sim_core.controllers import Oscillator, GvfIKCons\n",
    "\n",
    "# -------------------------------------------------------------------------------------\n",
    "# Define constants for file paths\n",
    "OUTPUT_DIR = os.path.join(\"..\", \"..\", \"output\")\n",
    "SIMDATA_FILE = os.path.join(OUTPUT_DIR, \"data.csv\")"
   ]
  }
 ],
 "metadata": {
  "kernelspec": {
   "display_name": "Python 3",
   "language": "python",
   "name": "python3"
  },
  "language_info": {
   "codemirror_mode": {
    "name": "ipython",
    "version": 3
   },
   "file_extension": ".py",
   "mimetype": "text/x-python",
   "name": "python",
   "nbconvert_exporter": "python",
   "pygments_lexer": "ipython3",
   "version": "3.11.4"
  }
 },
 "nbformat": 4,
 "nbformat_minor": 2
}
