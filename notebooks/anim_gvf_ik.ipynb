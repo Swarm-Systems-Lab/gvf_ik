{
 "cells": [
  {
   "cell_type": "code",
   "execution_count": null,
   "metadata": {},
   "outputs": [],
   "source": [
    "\"\"\"\\\n",
    "# Copyright (C) 2024 Jesús Bautista Villar <jesbauti20@gmail.com>\n",
    "\"\"\"\n",
    "!python3 --version"
   ]
  },
  {
   "cell_type": "code",
   "execution_count": null,
   "metadata": {},
   "outputs": [],
   "source": [
    "import numpy as np\n",
    "import os\n",
    "\n",
    "# Animation tools\n",
    "from IPython.display import HTML\n",
    "from matplotlib.animation import PillowWriter\n",
    "\n",
    "# Import the Swarm Systems Lab Simulator\n",
    "from ssl_simulator import SimulationEngine, load_data, createDir\n",
    "from ssl_simulator.robot_models import Unicycle2D\n",
    "from ssl_simulator.data_manager import load_sim\n",
    "from ssl_simulator.visualization import set_paper_parameters\n",
    "set_paper_parameters(fontsize=15)\n",
    "\n",
    "# Import custom functions and classes\n",
    "from visualization import PlotBasicGvf\n",
    "from visualization import AnimationXY, AnimationXY, AnimationXYPhi\n",
    "from controllers import GvfIK\n",
    "from ssl_simulator.gvf_trajectories import GvfEllipse\n",
    "\n",
    "# -------------------------------------------------------------------------------------\n",
    "\n",
    "# Data and output directories\n",
    "DATA_DIR = os.path.join(\"..\", \"data\")\n",
    "OUTPUT_DIR = os.path.join(\"..\", \"output\")\n",
    "SIMDATA_FILE = os.path.join(OUTPUT_DIR, \"data.csv\")\n",
    "\n",
    "createDir(OUTPUT_DIR)"
   ]
  },
  {
   "cell_type": "markdown",
   "metadata": {},
   "source": [
    "## ICRA video animations"
   ]
  },
  {
   "cell_type": "markdown",
   "metadata": {},
   "source": [
    "### Animation of the simulation"
   ]
  },
  {
   "cell_type": "code",
   "execution_count": null,
   "metadata": {},
   "outputs": [],
   "source": [
    "# Define the initial state\n",
    "N = 1\n",
    "\n",
    "p = np.ones((N,2)) * np.array([[150,-200]])\n",
    "speed = np.ones((N)) * np.array([14])\n",
    "theta = np.ones((N)) * np.array([-90])\n",
    "\n",
    "x0 = [p, speed, theta]\n",
    "\n",
    "# Controller settings\n",
    "A = np.ones((N)) * 0.3\n",
    "omega = np.ones((N)) * np.pi/4\n",
    "\n",
    "# --------------------------------\n",
    "# Generate the trajectory to be followed\n",
    "a, b = 100, 70\n",
    "XYoff, alpha = [0, 0], 0\n",
    "\n",
    "gvf_traj = GvfEllipse(XYoff,alpha,a,b)\n",
    "\n",
    "# Select the robot model\n",
    "robot_model = Unicycle2D(x0)\n",
    "\n",
    "# Initialize the controller\n",
    "s, ke, kn = 1, 0.35, 1\n",
    "controller = GvfIK(gvf_traj, s, ke, kn, A, omega)\n",
    "\n",
    "\n",
    "# Then, construct the Simulator Engine\n",
    "dt = 0.01\n",
    "simulator = SimulationEngine(robot_model, controller, time_step=dt, log_filename=SIMDATA_FILE)\n",
    "\n",
    "# --------------------------------\n",
    "# Run the simulation and save data\n",
    "tf = 10\n",
    "\n",
    "simulator.run(tf)\n",
    "# --------------------------------"
   ]
  },
  {
   "cell_type": "code",
   "execution_count": null,
   "metadata": {},
   "outputs": [],
   "source": [
    "# Load previously saved simulation data from the specified file\n",
    "simulation_data = load_sim(SIMDATA_FILE, debug=False)\n",
    "\n",
    "# Initialize the animator with the loaded simulation data\n",
    "animator = AnimationXY(\n",
    "    gvf_traj, simulation_data, \n",
    "    dpi=100, figsize=(6,6), xlims=[-200,200], ylims=[-250,150])\n",
    "\n",
    "anim = animator.gen_animation(fps=1/dt)\n",
    "HTML(anim.to_html5_video()) # It takes a loooot of time..."
   ]
  }
 ],
 "metadata": {
  "kernelspec": {
   "display_name": "Python 3",
   "language": "python",
   "name": "python3"
  },
  "language_info": {
   "codemirror_mode": {
    "name": "ipython",
    "version": 3
   },
   "file_extension": ".py",
   "mimetype": "text/x-python",
   "name": "python",
   "nbconvert_exporter": "python",
   "pygments_lexer": "ipython3",
   "version": "3.10.12"
  },
  "orig_nbformat": 4
 },
 "nbformat": 4,
 "nbformat_minor": 2
}
